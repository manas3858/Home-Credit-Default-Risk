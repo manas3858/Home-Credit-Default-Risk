{
  "nbformat": 4,
  "nbformat_minor": 0,
  "metadata": {
    "colab": {
      "name": "Home Credit Default Risk - EDA & Preprocessing.ipynb",
      "provenance": [],
      "collapsed_sections": [],
      "machine_shape": "hm"
    },
    "kernelspec": {
      "name": "python3",
      "display_name": "Python 3"
    },
    "accelerator": "GPU"
  },
  "cells": [
    {
      "cell_type": "markdown",
      "metadata": {
        "id": "mxmRo-wwSeRx",
        "colab_type": "text"
      },
      "source": [
        "## Data Import"
      ]
    },
    {
      "cell_type": "code",
      "metadata": {
        "id": "Azca3saAIWTm",
        "colab_type": "code",
        "colab": {}
      },
      "source": [
        "# Code to read csv file into Colaboratory:\n",
        "!pip install -U -q PyDrive\n",
        "from pydrive.auth import GoogleAuth\n",
        "from pydrive.drive import GoogleDrive\n",
        "from google.colab import auth\n",
        "from oauth2client.client import GoogleCredentials\n",
        "# Authenticate and create the PyDrive client.\n",
        "auth.authenticate_user()\n",
        "gauth = GoogleAuth()\n",
        "gauth.credentials = GoogleCredentials.get_application_default()\n",
        "drive = GoogleDrive(gauth)"
      ],
      "execution_count": 0,
      "outputs": []
    },
    {
      "cell_type": "code",
      "metadata": {
        "id": "kZQuP-r0IqSl",
        "colab_type": "code",
        "outputId": "41ff9334-fc97-4f90-84b8-12a9ac3681f4",
        "colab": {
          "base_uri": "https://localhost:8080/",
          "height": 33
        }
      },
      "source": [
        "link = 'https://drive.google.com/open?id=1uLEk-tiSxvMw8DMIQxGuKrEAcAOdH0jx' # Paste the shareable link here\n",
        "\n",
        "fluff, id = link.split('=')\n",
        "print (id) # Verify that you have everything after '='\n",
        "\n",
        "downloaded = drive.CreateFile({'id':id}) \n",
        "downloaded.GetContentFile('train.csv') # file will be stored as train.csv in the colab directory"
      ],
      "execution_count": 0,
      "outputs": [
        {
          "output_type": "stream",
          "text": [
            "1uLEk-tiSxvMw8DMIQxGuKrEAcAOdH0jx\n"
          ],
          "name": "stdout"
        }
      ]
    },
    {
      "cell_type": "code",
      "metadata": {
        "id": "lAOgMOg2Gkk_",
        "colab_type": "code",
        "outputId": "720ff408-a6d4-4633-8cfb-ea73fcf68d59",
        "colab": {
          "base_uri": "https://localhost:8080/",
          "height": 33
        }
      },
      "source": [
        "link = 'https://drive.google.com/open?id=1TiUvc3bkFPj6MhITrfNBfA31kRYOeQBO' # Paste the shareable link here\n",
        "\n",
        "fluff, id = link.split('=')\n",
        "print (id) # Verify that you have everything after '='\n",
        "\n",
        "downloaded = drive.CreateFile({'id':id}) \n",
        "downloaded.GetContentFile('test.csv')"
      ],
      "execution_count": 0,
      "outputs": [
        {
          "output_type": "stream",
          "text": [
            "1TiUvc3bkFPj6MhITrfNBfA31kRYOeQBO\n"
          ],
          "name": "stdout"
        }
      ]
    },
    {
      "cell_type": "code",
      "metadata": {
        "id": "VLP7ZxspIxBJ",
        "colab_type": "code",
        "outputId": "ddec33d9-f233-4352-b5fc-855828976a40",
        "colab": {
          "base_uri": "https://localhost:8080/",
          "height": 33
        }
      },
      "source": [
        "import os\n",
        "os.listdir('/content/')"
      ],
      "execution_count": 0,
      "outputs": [
        {
          "output_type": "execute_result",
          "data": {
            "text/plain": [
              "['.config', 'adc.json', 'train.csv', 'test.csv', 'sample_data']"
            ]
          },
          "metadata": {
            "tags": []
          },
          "execution_count": 73
        }
      ]
    },
    {
      "cell_type": "code",
      "metadata": {
        "id": "s-BCZvwqI7jI",
        "colab_type": "code",
        "colab": {}
      },
      "source": [
        "import pandas as pd\n",
        "import numpy as np\n",
        "import matplotlib.pyplot as plt"
      ],
      "execution_count": 0,
      "outputs": []
    },
    {
      "cell_type": "code",
      "metadata": {
        "id": "GkLoMUQhSEaL",
        "colab_type": "code",
        "colab": {}
      },
      "source": [
        "train = pd.read_csv('train.csv')\n",
        "test = pd.read_csv('test.csv')"
      ],
      "execution_count": 0,
      "outputs": []
    },
    {
      "cell_type": "code",
      "metadata": {
        "id": "AtSYaYI7Tgi7",
        "colab_type": "code",
        "outputId": "97f5e14e-daff-4713-c108-6c4d0d87f5ed",
        "colab": {
          "base_uri": "https://localhost:8080/",
          "height": 33
        }
      },
      "source": [
        "train.shape, test.shape"
      ],
      "execution_count": 0,
      "outputs": [
        {
          "output_type": "execute_result",
          "data": {
            "text/plain": [
              "((307511, 122), (48744, 121))"
            ]
          },
          "metadata": {
            "tags": []
          },
          "execution_count": 76
        }
      ]
    },
    {
      "cell_type": "markdown",
      "metadata": {
        "id": "KZVxsf0YbPbs",
        "colab_type": "text"
      },
      "source": [
        "## Exploratory Data Analysis and Data Cleaning"
      ]
    },
    {
      "cell_type": "code",
      "metadata": {
        "id": "R9VfhRCUSL6n",
        "colab_type": "code",
        "outputId": "d96ac93a-1b45-4696-c206-0709f1194988",
        "colab": {
          "base_uri": "https://localhost:8080/",
          "height": 316
        }
      },
      "source": [
        "train.head()"
      ],
      "execution_count": 0,
      "outputs": [
        {
          "output_type": "execute_result",
          "data": {
            "text/html": [
              "<div>\n",
              "<style scoped>\n",
              "    .dataframe tbody tr th:only-of-type {\n",
              "        vertical-align: middle;\n",
              "    }\n",
              "\n",
              "    .dataframe tbody tr th {\n",
              "        vertical-align: top;\n",
              "    }\n",
              "\n",
              "    .dataframe thead th {\n",
              "        text-align: right;\n",
              "    }\n",
              "</style>\n",
              "<table border=\"1\" class=\"dataframe\">\n",
              "  <thead>\n",
              "    <tr style=\"text-align: right;\">\n",
              "      <th></th>\n",
              "      <th>SK_ID_CURR</th>\n",
              "      <th>TARGET</th>\n",
              "      <th>NAME_CONTRACT_TYPE</th>\n",
              "      <th>CODE_GENDER</th>\n",
              "      <th>FLAG_OWN_CAR</th>\n",
              "      <th>FLAG_OWN_REALTY</th>\n",
              "      <th>CNT_CHILDREN</th>\n",
              "      <th>AMT_INCOME_TOTAL</th>\n",
              "      <th>AMT_CREDIT</th>\n",
              "      <th>AMT_ANNUITY</th>\n",
              "      <th>AMT_GOODS_PRICE</th>\n",
              "      <th>NAME_TYPE_SUITE</th>\n",
              "      <th>NAME_INCOME_TYPE</th>\n",
              "      <th>NAME_EDUCATION_TYPE</th>\n",
              "      <th>NAME_FAMILY_STATUS</th>\n",
              "      <th>NAME_HOUSING_TYPE</th>\n",
              "      <th>REGION_POPULATION_RELATIVE</th>\n",
              "      <th>DAYS_BIRTH</th>\n",
              "      <th>DAYS_EMPLOYED</th>\n",
              "      <th>DAYS_REGISTRATION</th>\n",
              "      <th>DAYS_ID_PUBLISH</th>\n",
              "      <th>OWN_CAR_AGE</th>\n",
              "      <th>FLAG_MOBIL</th>\n",
              "      <th>FLAG_EMP_PHONE</th>\n",
              "      <th>FLAG_WORK_PHONE</th>\n",
              "      <th>FLAG_CONT_MOBILE</th>\n",
              "      <th>FLAG_PHONE</th>\n",
              "      <th>FLAG_EMAIL</th>\n",
              "      <th>OCCUPATION_TYPE</th>\n",
              "      <th>CNT_FAM_MEMBERS</th>\n",
              "      <th>REGION_RATING_CLIENT</th>\n",
              "      <th>REGION_RATING_CLIENT_W_CITY</th>\n",
              "      <th>WEEKDAY_APPR_PROCESS_START</th>\n",
              "      <th>HOUR_APPR_PROCESS_START</th>\n",
              "      <th>REG_REGION_NOT_LIVE_REGION</th>\n",
              "      <th>REG_REGION_NOT_WORK_REGION</th>\n",
              "      <th>LIVE_REGION_NOT_WORK_REGION</th>\n",
              "      <th>REG_CITY_NOT_LIVE_CITY</th>\n",
              "      <th>REG_CITY_NOT_WORK_CITY</th>\n",
              "      <th>LIVE_CITY_NOT_WORK_CITY</th>\n",
              "      <th>...</th>\n",
              "      <th>LIVINGAPARTMENTS_MEDI</th>\n",
              "      <th>LIVINGAREA_MEDI</th>\n",
              "      <th>NONLIVINGAPARTMENTS_MEDI</th>\n",
              "      <th>NONLIVINGAREA_MEDI</th>\n",
              "      <th>FONDKAPREMONT_MODE</th>\n",
              "      <th>HOUSETYPE_MODE</th>\n",
              "      <th>TOTALAREA_MODE</th>\n",
              "      <th>WALLSMATERIAL_MODE</th>\n",
              "      <th>EMERGENCYSTATE_MODE</th>\n",
              "      <th>OBS_30_CNT_SOCIAL_CIRCLE</th>\n",
              "      <th>DEF_30_CNT_SOCIAL_CIRCLE</th>\n",
              "      <th>OBS_60_CNT_SOCIAL_CIRCLE</th>\n",
              "      <th>DEF_60_CNT_SOCIAL_CIRCLE</th>\n",
              "      <th>DAYS_LAST_PHONE_CHANGE</th>\n",
              "      <th>FLAG_DOCUMENT_2</th>\n",
              "      <th>FLAG_DOCUMENT_3</th>\n",
              "      <th>FLAG_DOCUMENT_4</th>\n",
              "      <th>FLAG_DOCUMENT_5</th>\n",
              "      <th>FLAG_DOCUMENT_6</th>\n",
              "      <th>FLAG_DOCUMENT_7</th>\n",
              "      <th>FLAG_DOCUMENT_8</th>\n",
              "      <th>FLAG_DOCUMENT_9</th>\n",
              "      <th>FLAG_DOCUMENT_10</th>\n",
              "      <th>FLAG_DOCUMENT_11</th>\n",
              "      <th>FLAG_DOCUMENT_12</th>\n",
              "      <th>FLAG_DOCUMENT_13</th>\n",
              "      <th>FLAG_DOCUMENT_14</th>\n",
              "      <th>FLAG_DOCUMENT_15</th>\n",
              "      <th>FLAG_DOCUMENT_16</th>\n",
              "      <th>FLAG_DOCUMENT_17</th>\n",
              "      <th>FLAG_DOCUMENT_18</th>\n",
              "      <th>FLAG_DOCUMENT_19</th>\n",
              "      <th>FLAG_DOCUMENT_20</th>\n",
              "      <th>FLAG_DOCUMENT_21</th>\n",
              "      <th>AMT_REQ_CREDIT_BUREAU_HOUR</th>\n",
              "      <th>AMT_REQ_CREDIT_BUREAU_DAY</th>\n",
              "      <th>AMT_REQ_CREDIT_BUREAU_WEEK</th>\n",
              "      <th>AMT_REQ_CREDIT_BUREAU_MON</th>\n",
              "      <th>AMT_REQ_CREDIT_BUREAU_QRT</th>\n",
              "      <th>AMT_REQ_CREDIT_BUREAU_YEAR</th>\n",
              "    </tr>\n",
              "  </thead>\n",
              "  <tbody>\n",
              "    <tr>\n",
              "      <th>0</th>\n",
              "      <td>100002</td>\n",
              "      <td>1</td>\n",
              "      <td>Cash loans</td>\n",
              "      <td>M</td>\n",
              "      <td>N</td>\n",
              "      <td>Y</td>\n",
              "      <td>0</td>\n",
              "      <td>202500.0</td>\n",
              "      <td>406597.5</td>\n",
              "      <td>24700.5</td>\n",
              "      <td>351000.0</td>\n",
              "      <td>Unaccompanied</td>\n",
              "      <td>Working</td>\n",
              "      <td>Secondary / secondary special</td>\n",
              "      <td>Single / not married</td>\n",
              "      <td>House / apartment</td>\n",
              "      <td>0.018801</td>\n",
              "      <td>-9461</td>\n",
              "      <td>-637</td>\n",
              "      <td>-3648.0</td>\n",
              "      <td>-2120</td>\n",
              "      <td>NaN</td>\n",
              "      <td>1</td>\n",
              "      <td>1</td>\n",
              "      <td>0</td>\n",
              "      <td>1</td>\n",
              "      <td>1</td>\n",
              "      <td>0</td>\n",
              "      <td>Laborers</td>\n",
              "      <td>1.0</td>\n",
              "      <td>2</td>\n",
              "      <td>2</td>\n",
              "      <td>WEDNESDAY</td>\n",
              "      <td>10</td>\n",
              "      <td>0</td>\n",
              "      <td>0</td>\n",
              "      <td>0</td>\n",
              "      <td>0</td>\n",
              "      <td>0</td>\n",
              "      <td>0</td>\n",
              "      <td>...</td>\n",
              "      <td>0.0205</td>\n",
              "      <td>0.0193</td>\n",
              "      <td>0.0000</td>\n",
              "      <td>0.00</td>\n",
              "      <td>reg oper account</td>\n",
              "      <td>block of flats</td>\n",
              "      <td>0.0149</td>\n",
              "      <td>Stone, brick</td>\n",
              "      <td>No</td>\n",
              "      <td>2.0</td>\n",
              "      <td>2.0</td>\n",
              "      <td>2.0</td>\n",
              "      <td>2.0</td>\n",
              "      <td>-1134.0</td>\n",
              "      <td>0</td>\n",
              "      <td>1</td>\n",
              "      <td>0</td>\n",
              "      <td>0</td>\n",
              "      <td>0</td>\n",
              "      <td>0</td>\n",
              "      <td>0</td>\n",
              "      <td>0</td>\n",
              "      <td>0</td>\n",
              "      <td>0</td>\n",
              "      <td>0</td>\n",
              "      <td>0</td>\n",
              "      <td>0</td>\n",
              "      <td>0</td>\n",
              "      <td>0</td>\n",
              "      <td>0</td>\n",
              "      <td>0</td>\n",
              "      <td>0</td>\n",
              "      <td>0</td>\n",
              "      <td>0</td>\n",
              "      <td>0.0</td>\n",
              "      <td>0.0</td>\n",
              "      <td>0.0</td>\n",
              "      <td>0.0</td>\n",
              "      <td>0.0</td>\n",
              "      <td>1.0</td>\n",
              "    </tr>\n",
              "    <tr>\n",
              "      <th>1</th>\n",
              "      <td>100003</td>\n",
              "      <td>0</td>\n",
              "      <td>Cash loans</td>\n",
              "      <td>F</td>\n",
              "      <td>N</td>\n",
              "      <td>N</td>\n",
              "      <td>0</td>\n",
              "      <td>270000.0</td>\n",
              "      <td>1293502.5</td>\n",
              "      <td>35698.5</td>\n",
              "      <td>1129500.0</td>\n",
              "      <td>Family</td>\n",
              "      <td>State servant</td>\n",
              "      <td>Higher education</td>\n",
              "      <td>Married</td>\n",
              "      <td>House / apartment</td>\n",
              "      <td>0.003541</td>\n",
              "      <td>-16765</td>\n",
              "      <td>-1188</td>\n",
              "      <td>-1186.0</td>\n",
              "      <td>-291</td>\n",
              "      <td>NaN</td>\n",
              "      <td>1</td>\n",
              "      <td>1</td>\n",
              "      <td>0</td>\n",
              "      <td>1</td>\n",
              "      <td>1</td>\n",
              "      <td>0</td>\n",
              "      <td>Core staff</td>\n",
              "      <td>2.0</td>\n",
              "      <td>1</td>\n",
              "      <td>1</td>\n",
              "      <td>MONDAY</td>\n",
              "      <td>11</td>\n",
              "      <td>0</td>\n",
              "      <td>0</td>\n",
              "      <td>0</td>\n",
              "      <td>0</td>\n",
              "      <td>0</td>\n",
              "      <td>0</td>\n",
              "      <td>...</td>\n",
              "      <td>0.0787</td>\n",
              "      <td>0.0558</td>\n",
              "      <td>0.0039</td>\n",
              "      <td>0.01</td>\n",
              "      <td>reg oper account</td>\n",
              "      <td>block of flats</td>\n",
              "      <td>0.0714</td>\n",
              "      <td>Block</td>\n",
              "      <td>No</td>\n",
              "      <td>1.0</td>\n",
              "      <td>0.0</td>\n",
              "      <td>1.0</td>\n",
              "      <td>0.0</td>\n",
              "      <td>-828.0</td>\n",
              "      <td>0</td>\n",
              "      <td>1</td>\n",
              "      <td>0</td>\n",
              "      <td>0</td>\n",
              "      <td>0</td>\n",
              "      <td>0</td>\n",
              "      <td>0</td>\n",
              "      <td>0</td>\n",
              "      <td>0</td>\n",
              "      <td>0</td>\n",
              "      <td>0</td>\n",
              "      <td>0</td>\n",
              "      <td>0</td>\n",
              "      <td>0</td>\n",
              "      <td>0</td>\n",
              "      <td>0</td>\n",
              "      <td>0</td>\n",
              "      <td>0</td>\n",
              "      <td>0</td>\n",
              "      <td>0</td>\n",
              "      <td>0.0</td>\n",
              "      <td>0.0</td>\n",
              "      <td>0.0</td>\n",
              "      <td>0.0</td>\n",
              "      <td>0.0</td>\n",
              "      <td>0.0</td>\n",
              "    </tr>\n",
              "    <tr>\n",
              "      <th>2</th>\n",
              "      <td>100004</td>\n",
              "      <td>0</td>\n",
              "      <td>Revolving loans</td>\n",
              "      <td>M</td>\n",
              "      <td>Y</td>\n",
              "      <td>Y</td>\n",
              "      <td>0</td>\n",
              "      <td>67500.0</td>\n",
              "      <td>135000.0</td>\n",
              "      <td>6750.0</td>\n",
              "      <td>135000.0</td>\n",
              "      <td>Unaccompanied</td>\n",
              "      <td>Working</td>\n",
              "      <td>Secondary / secondary special</td>\n",
              "      <td>Single / not married</td>\n",
              "      <td>House / apartment</td>\n",
              "      <td>0.010032</td>\n",
              "      <td>-19046</td>\n",
              "      <td>-225</td>\n",
              "      <td>-4260.0</td>\n",
              "      <td>-2531</td>\n",
              "      <td>26.0</td>\n",
              "      <td>1</td>\n",
              "      <td>1</td>\n",
              "      <td>1</td>\n",
              "      <td>1</td>\n",
              "      <td>1</td>\n",
              "      <td>0</td>\n",
              "      <td>Laborers</td>\n",
              "      <td>1.0</td>\n",
              "      <td>2</td>\n",
              "      <td>2</td>\n",
              "      <td>MONDAY</td>\n",
              "      <td>9</td>\n",
              "      <td>0</td>\n",
              "      <td>0</td>\n",
              "      <td>0</td>\n",
              "      <td>0</td>\n",
              "      <td>0</td>\n",
              "      <td>0</td>\n",
              "      <td>...</td>\n",
              "      <td>NaN</td>\n",
              "      <td>NaN</td>\n",
              "      <td>NaN</td>\n",
              "      <td>NaN</td>\n",
              "      <td>NaN</td>\n",
              "      <td>NaN</td>\n",
              "      <td>NaN</td>\n",
              "      <td>NaN</td>\n",
              "      <td>NaN</td>\n",
              "      <td>0.0</td>\n",
              "      <td>0.0</td>\n",
              "      <td>0.0</td>\n",
              "      <td>0.0</td>\n",
              "      <td>-815.0</td>\n",
              "      <td>0</td>\n",
              "      <td>0</td>\n",
              "      <td>0</td>\n",
              "      <td>0</td>\n",
              "      <td>0</td>\n",
              "      <td>0</td>\n",
              "      <td>0</td>\n",
              "      <td>0</td>\n",
              "      <td>0</td>\n",
              "      <td>0</td>\n",
              "      <td>0</td>\n",
              "      <td>0</td>\n",
              "      <td>0</td>\n",
              "      <td>0</td>\n",
              "      <td>0</td>\n",
              "      <td>0</td>\n",
              "      <td>0</td>\n",
              "      <td>0</td>\n",
              "      <td>0</td>\n",
              "      <td>0</td>\n",
              "      <td>0.0</td>\n",
              "      <td>0.0</td>\n",
              "      <td>0.0</td>\n",
              "      <td>0.0</td>\n",
              "      <td>0.0</td>\n",
              "      <td>0.0</td>\n",
              "    </tr>\n",
              "    <tr>\n",
              "      <th>3</th>\n",
              "      <td>100006</td>\n",
              "      <td>0</td>\n",
              "      <td>Cash loans</td>\n",
              "      <td>F</td>\n",
              "      <td>N</td>\n",
              "      <td>Y</td>\n",
              "      <td>0</td>\n",
              "      <td>135000.0</td>\n",
              "      <td>312682.5</td>\n",
              "      <td>29686.5</td>\n",
              "      <td>297000.0</td>\n",
              "      <td>Unaccompanied</td>\n",
              "      <td>Working</td>\n",
              "      <td>Secondary / secondary special</td>\n",
              "      <td>Civil marriage</td>\n",
              "      <td>House / apartment</td>\n",
              "      <td>0.008019</td>\n",
              "      <td>-19005</td>\n",
              "      <td>-3039</td>\n",
              "      <td>-9833.0</td>\n",
              "      <td>-2437</td>\n",
              "      <td>NaN</td>\n",
              "      <td>1</td>\n",
              "      <td>1</td>\n",
              "      <td>0</td>\n",
              "      <td>1</td>\n",
              "      <td>0</td>\n",
              "      <td>0</td>\n",
              "      <td>Laborers</td>\n",
              "      <td>2.0</td>\n",
              "      <td>2</td>\n",
              "      <td>2</td>\n",
              "      <td>WEDNESDAY</td>\n",
              "      <td>17</td>\n",
              "      <td>0</td>\n",
              "      <td>0</td>\n",
              "      <td>0</td>\n",
              "      <td>0</td>\n",
              "      <td>0</td>\n",
              "      <td>0</td>\n",
              "      <td>...</td>\n",
              "      <td>NaN</td>\n",
              "      <td>NaN</td>\n",
              "      <td>NaN</td>\n",
              "      <td>NaN</td>\n",
              "      <td>NaN</td>\n",
              "      <td>NaN</td>\n",
              "      <td>NaN</td>\n",
              "      <td>NaN</td>\n",
              "      <td>NaN</td>\n",
              "      <td>2.0</td>\n",
              "      <td>0.0</td>\n",
              "      <td>2.0</td>\n",
              "      <td>0.0</td>\n",
              "      <td>-617.0</td>\n",
              "      <td>0</td>\n",
              "      <td>1</td>\n",
              "      <td>0</td>\n",
              "      <td>0</td>\n",
              "      <td>0</td>\n",
              "      <td>0</td>\n",
              "      <td>0</td>\n",
              "      <td>0</td>\n",
              "      <td>0</td>\n",
              "      <td>0</td>\n",
              "      <td>0</td>\n",
              "      <td>0</td>\n",
              "      <td>0</td>\n",
              "      <td>0</td>\n",
              "      <td>0</td>\n",
              "      <td>0</td>\n",
              "      <td>0</td>\n",
              "      <td>0</td>\n",
              "      <td>0</td>\n",
              "      <td>0</td>\n",
              "      <td>NaN</td>\n",
              "      <td>NaN</td>\n",
              "      <td>NaN</td>\n",
              "      <td>NaN</td>\n",
              "      <td>NaN</td>\n",
              "      <td>NaN</td>\n",
              "    </tr>\n",
              "    <tr>\n",
              "      <th>4</th>\n",
              "      <td>100007</td>\n",
              "      <td>0</td>\n",
              "      <td>Cash loans</td>\n",
              "      <td>M</td>\n",
              "      <td>N</td>\n",
              "      <td>Y</td>\n",
              "      <td>0</td>\n",
              "      <td>121500.0</td>\n",
              "      <td>513000.0</td>\n",
              "      <td>21865.5</td>\n",
              "      <td>513000.0</td>\n",
              "      <td>Unaccompanied</td>\n",
              "      <td>Working</td>\n",
              "      <td>Secondary / secondary special</td>\n",
              "      <td>Single / not married</td>\n",
              "      <td>House / apartment</td>\n",
              "      <td>0.028663</td>\n",
              "      <td>-19932</td>\n",
              "      <td>-3038</td>\n",
              "      <td>-4311.0</td>\n",
              "      <td>-3458</td>\n",
              "      <td>NaN</td>\n",
              "      <td>1</td>\n",
              "      <td>1</td>\n",
              "      <td>0</td>\n",
              "      <td>1</td>\n",
              "      <td>0</td>\n",
              "      <td>0</td>\n",
              "      <td>Core staff</td>\n",
              "      <td>1.0</td>\n",
              "      <td>2</td>\n",
              "      <td>2</td>\n",
              "      <td>THURSDAY</td>\n",
              "      <td>11</td>\n",
              "      <td>0</td>\n",
              "      <td>0</td>\n",
              "      <td>0</td>\n",
              "      <td>0</td>\n",
              "      <td>1</td>\n",
              "      <td>1</td>\n",
              "      <td>...</td>\n",
              "      <td>NaN</td>\n",
              "      <td>NaN</td>\n",
              "      <td>NaN</td>\n",
              "      <td>NaN</td>\n",
              "      <td>NaN</td>\n",
              "      <td>NaN</td>\n",
              "      <td>NaN</td>\n",
              "      <td>NaN</td>\n",
              "      <td>NaN</td>\n",
              "      <td>0.0</td>\n",
              "      <td>0.0</td>\n",
              "      <td>0.0</td>\n",
              "      <td>0.0</td>\n",
              "      <td>-1106.0</td>\n",
              "      <td>0</td>\n",
              "      <td>0</td>\n",
              "      <td>0</td>\n",
              "      <td>0</td>\n",
              "      <td>0</td>\n",
              "      <td>0</td>\n",
              "      <td>1</td>\n",
              "      <td>0</td>\n",
              "      <td>0</td>\n",
              "      <td>0</td>\n",
              "      <td>0</td>\n",
              "      <td>0</td>\n",
              "      <td>0</td>\n",
              "      <td>0</td>\n",
              "      <td>0</td>\n",
              "      <td>0</td>\n",
              "      <td>0</td>\n",
              "      <td>0</td>\n",
              "      <td>0</td>\n",
              "      <td>0</td>\n",
              "      <td>0.0</td>\n",
              "      <td>0.0</td>\n",
              "      <td>0.0</td>\n",
              "      <td>0.0</td>\n",
              "      <td>0.0</td>\n",
              "      <td>0.0</td>\n",
              "    </tr>\n",
              "  </tbody>\n",
              "</table>\n",
              "<p>5 rows × 122 columns</p>\n",
              "</div>"
            ],
            "text/plain": [
              "   SK_ID_CURR  TARGET  ... AMT_REQ_CREDIT_BUREAU_QRT AMT_REQ_CREDIT_BUREAU_YEAR\n",
              "0      100002       1  ...                       0.0                        1.0\n",
              "1      100003       0  ...                       0.0                        0.0\n",
              "2      100004       0  ...                       0.0                        0.0\n",
              "3      100006       0  ...                       NaN                        NaN\n",
              "4      100007       0  ...                       0.0                        0.0\n",
              "\n",
              "[5 rows x 122 columns]"
            ]
          },
          "metadata": {
            "tags": []
          },
          "execution_count": 77
        }
      ]
    },
    {
      "cell_type": "code",
      "metadata": {
        "id": "shqCbyckKA58",
        "colab_type": "code",
        "outputId": "4730b2d6-dc9d-44ff-b48e-96bffebc867f",
        "colab": {
          "base_uri": "https://localhost:8080/",
          "height": 67
        }
      },
      "source": [
        "# Imbalanced Class Data - About 8% of the train set are observations that defaulted on their loans\n",
        "train.TARGET.value_counts()"
      ],
      "execution_count": 0,
      "outputs": [
        {
          "output_type": "execute_result",
          "data": {
            "text/plain": [
              "0    282686\n",
              "1     24825\n",
              "Name: TARGET, dtype: int64"
            ]
          },
          "metadata": {
            "tags": []
          },
          "execution_count": 78
        }
      ]
    },
    {
      "cell_type": "code",
      "metadata": {
        "id": "H5rEio6IcbsZ",
        "colab_type": "code",
        "outputId": "53ad62c3-fb06-46fe-e923-f57c2ee27866",
        "colab": {
          "base_uri": "https://localhost:8080/",
          "height": 84
        }
      },
      "source": [
        "# data types\n",
        "train.dtypes.value_counts()"
      ],
      "execution_count": 0,
      "outputs": [
        {
          "output_type": "execute_result",
          "data": {
            "text/plain": [
              "float64    65\n",
              "int64      41\n",
              "object     16\n",
              "dtype: int64"
            ]
          },
          "metadata": {
            "tags": []
          },
          "execution_count": 79
        }
      ]
    },
    {
      "cell_type": "code",
      "metadata": {
        "id": "KR4WP-jXTIib",
        "colab_type": "code",
        "outputId": "0fa4c276-8e2c-436f-dcf1-33fa811e787c",
        "colab": {
          "base_uri": "https://localhost:8080/",
          "height": 218
        }
      },
      "source": [
        "# A lot of variables seem to have >50% null values, we will drop the columns with more than 50% null records\n",
        "train.isnull().sum().sort_values(ascending = False)"
      ],
      "execution_count": 0,
      "outputs": [
        {
          "output_type": "execute_result",
          "data": {
            "text/plain": [
              "COMMONAREA_MEDI                214865\n",
              "COMMONAREA_AVG                 214865\n",
              "COMMONAREA_MODE                214865\n",
              "NONLIVINGAPARTMENTS_MODE       213514\n",
              "NONLIVINGAPARTMENTS_MEDI       213514\n",
              "                                ...  \n",
              "REG_CITY_NOT_LIVE_CITY              0\n",
              "LIVE_REGION_NOT_WORK_REGION         0\n",
              "REG_REGION_NOT_WORK_REGION          0\n",
              "HOUR_APPR_PROCESS_START             0\n",
              "SK_ID_CURR                          0\n",
              "Length: 122, dtype: int64"
            ]
          },
          "metadata": {
            "tags": []
          },
          "execution_count": 80
        }
      ]
    },
    {
      "cell_type": "code",
      "metadata": {
        "id": "tpeLDaVNIyYJ",
        "colab_type": "code",
        "outputId": "851a421a-b94f-4e65-d159-adbdb0a2ced4",
        "colab": {
          "base_uri": "https://localhost:8080/",
          "height": 33
        }
      },
      "source": [
        "# 17 variables dropped\n",
        "test.drop(columns = train.columns[train.isnull().sum() > 150000], inplace = True)\n",
        "train.drop(columns = train.columns[train.isnull().sum() > 150000], inplace = True)\n",
        "train.shape, test.shape"
      ],
      "execution_count": 0,
      "outputs": [
        {
          "output_type": "execute_result",
          "data": {
            "text/plain": [
              "((307511, 75), (48744, 74))"
            ]
          },
          "metadata": {
            "tags": []
          },
          "execution_count": 81
        }
      ]
    },
    {
      "cell_type": "markdown",
      "metadata": {
        "id": "Ps_XoGRDNssl",
        "colab_type": "text"
      },
      "source": [
        "Let's try to see the patterns in missing fields"
      ]
    },
    {
      "cell_type": "code",
      "metadata": {
        "id": "9pjJmpQ1WV6P",
        "colab_type": "code",
        "outputId": "d468063b-2cf9-4323-d855-32b5bf0cf5b7",
        "colab": {
          "base_uri": "https://localhost:8080/",
          "height": 168
        }
      },
      "source": [
        "# Checking the days_employed predictor\n",
        "train['DAYS_EMPLOYED'].describe()"
      ],
      "execution_count": 0,
      "outputs": [
        {
          "output_type": "execute_result",
          "data": {
            "text/plain": [
              "count    307511.000000\n",
              "mean      63815.045904\n",
              "std      141275.766519\n",
              "min      -17912.000000\n",
              "25%       -2760.000000\n",
              "50%       -1213.000000\n",
              "75%        -289.000000\n",
              "max      365243.000000\n",
              "Name: DAYS_EMPLOYED, dtype: float64"
            ]
          },
          "metadata": {
            "tags": []
          },
          "execution_count": 82
        }
      ]
    },
    {
      "cell_type": "code",
      "metadata": {
        "id": "AQElZE3mWX6k",
        "colab_type": "code",
        "colab": {}
      },
      "source": [
        "# 307511 days is more than 1000 years, replacing it with nulls\n",
        "train['DAYS_EMPLOYED'].replace({365243:np.nan},inplace=True)\n",
        "test['DAYS_EMPLOYED'].replace({365243:np.nan},inplace=True)"
      ],
      "execution_count": 0,
      "outputs": []
    },
    {
      "cell_type": "code",
      "metadata": {
        "id": "seejTca4WbYx",
        "colab_type": "code",
        "outputId": "50b8d4fe-3407-4d44-a007-f9f2cc666b21",
        "colab": {
          "base_uri": "https://localhost:8080/",
          "height": 295
        }
      },
      "source": [
        "#Checking the distribution of days of employment\n",
        "train['DAYS_EMPLOYED'].plot.hist(title = 'Days Employment Histogram');\n",
        "plt.xlabel('Days Employment');"
      ],
      "execution_count": 0,
      "outputs": [
        {
          "output_type": "display_data",
          "data": {
            "image/png": "[encoded data removed]",
            "text/plain": [
              "<Figure size 432x288 with 1 Axes>"
            ]
          },
          "metadata": {
            "tags": []
          }
        }
      ]
    },
    {
      "cell_type": "code",
      "metadata": {
        "id": "p0_tBa03Wek5",
        "colab_type": "code",
        "colab": {}
      },
      "source": [
        "# data is skewed, replacing the nulls with the median\n",
        "test['DAYS_EMPLOYED']=test['DAYS_EMPLOYED'].fillna(train['DAYS_EMPLOYED'].median())\n",
        "train['DAYS_EMPLOYED']=train['DAYS_EMPLOYED'].fillna(train['DAYS_EMPLOYED'].median())"
      ],
      "execution_count": 0,
      "outputs": []
    },
    {
      "cell_type": "code",
      "metadata": {
        "id": "XGCsHm8vY_Iw",
        "colab_type": "code",
        "outputId": "800ec6e5-113c-4466-8bad-da268a1b9dcb",
        "colab": {
          "base_uri": "https://localhost:8080/",
          "height": 281
        }
      },
      "source": [
        "# Checking impact of gender on target variable\n",
        "((train[train['CODE_GENDER']!='XNA']['CODE_GENDER'].value_counts())/len(train)).plot(kind='bar')"
      ],
      "execution_count": 0,
      "outputs": [
        {
          "output_type": "execute_result",
          "data": {
            "text/plain": [
              "<matplotlib.axes._subplots.AxesSubplot at 0x7f735a5d4c50>"
            ]
          },
          "metadata": {
            "tags": []
          },
          "execution_count": 86
        },
        {
          "output_type": "display_data",
          "data": {
            "image/png": "[encoded data removed]",
            "text/plain": [
              "<Figure size 432x288 with 1 Axes>"
            ]
          },
          "metadata": {
            "tags": []
          }
        }
      ]
    },
    {
      "cell_type": "code",
      "metadata": {
        "id": "pKwUTeOQZCIm",
        "colab_type": "code",
        "outputId": "9f37d39e-6bd2-4898-da71-5a67e521414e",
        "colab": {
          "base_uri": "https://localhost:8080/",
          "height": 359
        }
      },
      "source": [
        "# Male tends to default more\n",
        "lst=[]\n",
        "\n",
        "lst.append(len(train[(train['CODE_GENDER']=='M') & (train['TARGET']==1)])*1.0/(len(train[train['CODE_GENDER']=='M'])))\n",
        "lst.append(len(train[(train['CODE_GENDER']=='F') & (train['TARGET']==1)])*1.0/(len(train[train['CODE_GENDER']=='F'])))\n",
        "\n",
        "names=['Male Defaulter','Female Defaulter']\n",
        "\n",
        "gender_default=pd.DataFrame(lst,names)\n",
        "gender_default=gender_default*100\n",
        "gender_default.columns=['Percentage share']\n",
        "gender_default.plot(kind='bar')"
      ],
      "execution_count": 0,
      "outputs": [
        {
          "output_type": "execute_result",
          "data": {
            "text/plain": [
              "<matplotlib.axes._subplots.AxesSubplot at 0x7f735a599780>"
            ]
          },
          "metadata": {
            "tags": []
          },
          "execution_count": 87
        },
        {
          "output_type": "display_data",
          "data": {
            "image/png": "[encoded data removed]",
            "text/plain": [
              "<Figure size 432x288 with 1 Axes>"
            ]
          },
          "metadata": {
            "tags": []
          }
        }
      ]
    },
    {
      "cell_type": "code",
      "metadata": {
        "id": "K9LZXf-XZQlz",
        "colab_type": "code",
        "outputId": "1deb2df0-fb37-4845-d055-22d98f678e8d",
        "colab": {
          "base_uri": "https://localhost:8080/",
          "height": 425
        }
      },
      "source": [
        "# Checking the impact of education level on target variable - education seems to be inversely proportional to loan default\n",
        "\n",
        "((train[train['TARGET']==1]['NAME_EDUCATION_TYPE'].value_counts())*100/(train['NAME_EDUCATION_TYPE'].value_counts())).sort_values().plot(kind='bar')"
      ],
      "execution_count": 0,
      "outputs": [
        {
          "output_type": "execute_result",
          "data": {
            "text/plain": [
              "<matplotlib.axes._subplots.AxesSubplot at 0x7f735a5a1438>"
            ]
          },
          "metadata": {
            "tags": []
          },
          "execution_count": 88
        },
        {
          "output_type": "display_data",
          "data": {
            "image/png": "[encoded data removed]",
            "text/plain": [
              "<Figure size 432x288 with 1 Axes>"
            ]
          },
          "metadata": {
            "tags": []
          }
        }
      ]
    },
    {
      "cell_type": "code",
      "metadata": {
        "id": "YYoeUPFuZTSh",
        "colab_type": "code",
        "outputId": "eee80201-104d-4172-d6df-c52935b4845f",
        "colab": {
          "base_uri": "https://localhost:8080/",
          "height": 378
        }
      },
      "source": [
        "# Low skilled employees tend to do more default\n",
        "\n",
        "((train[train['TARGET']==1]['OCCUPATION_TYPE'].value_counts())*100/(train['OCCUPATION_TYPE'].value_counts())).plot(kind='bar')"
      ],
      "execution_count": 0,
      "outputs": [
        {
          "output_type": "execute_result",
          "data": {
            "text/plain": [
              "<matplotlib.axes._subplots.AxesSubplot at 0x7f735a46aa20>"
            ]
          },
          "metadata": {
            "tags": []
          },
          "execution_count": 89
        },
        {
          "output_type": "display_data",
          "data": {
            "image/png": "[encoded data removed]",
            "text/plain": [
              "<Figure size 432x288 with 1 Axes>"
            ]
          },
          "metadata": {
            "tags": []
          }
        }
      ]
    },
    {
      "cell_type": "code",
      "metadata": {
        "id": "rPlLbfAmMN1N",
        "colab_type": "code",
        "outputId": "d8df01f8-1eef-4099-ccfb-1c7b4a3bae41",
        "colab": {
          "base_uri": "https://localhost:8080/",
          "height": 117
        }
      },
      "source": [
        "train.AMT_REQ_CREDIT_BUREAU_HOUR.value_counts()"
      ],
      "execution_count": 0,
      "outputs": [
        {
          "output_type": "execute_result",
          "data": {
            "text/plain": [
              "0.0    264366\n",
              "1.0      1560\n",
              "2.0        56\n",
              "3.0         9\n",
              "4.0         1\n",
              "Name: AMT_REQ_CREDIT_BUREAU_HOUR, dtype: int64"
            ]
          },
          "metadata": {
            "tags": []
          },
          "execution_count": 90
        }
      ]
    },
    {
      "cell_type": "code",
      "metadata": {
        "id": "rVGOqPDGMiJU",
        "colab_type": "code",
        "outputId": "fe1e353f-4560-4135-b132-bc66fb6cd421",
        "colab": {
          "base_uri": "https://localhost:8080/",
          "height": 184
        }
      },
      "source": [
        "train.AMT_REQ_CREDIT_BUREAU_DAY.value_counts()"
      ],
      "execution_count": 0,
      "outputs": [
        {
          "output_type": "execute_result",
          "data": {
            "text/plain": [
              "0.0    264503\n",
              "1.0      1292\n",
              "2.0       106\n",
              "3.0        45\n",
              "4.0        26\n",
              "5.0         9\n",
              "6.0         8\n",
              "9.0         2\n",
              "8.0         1\n",
              "Name: AMT_REQ_CREDIT_BUREAU_DAY, dtype: int64"
            ]
          },
          "metadata": {
            "tags": []
          },
          "execution_count": 91
        }
      ]
    },
    {
      "cell_type": "code",
      "metadata": {
        "id": "ru2XORUZMpVy",
        "colab_type": "code",
        "outputId": "240f8715-0f5f-4e82-a505-3d0e93fc68a7",
        "colab": {
          "base_uri": "https://localhost:8080/",
          "height": 436
        }
      },
      "source": [
        "train.AMT_REQ_CREDIT_BUREAU_MON.value_counts()"
      ],
      "execution_count": 0,
      "outputs": [
        {
          "output_type": "execute_result",
          "data": {
            "text/plain": [
              "0.0     222233\n",
              "1.0      33147\n",
              "2.0       5386\n",
              "3.0       1991\n",
              "4.0       1076\n",
              "5.0        602\n",
              "6.0        343\n",
              "7.0        298\n",
              "9.0        206\n",
              "8.0        185\n",
              "10.0       132\n",
              "11.0       119\n",
              "12.0        77\n",
              "13.0        72\n",
              "14.0        40\n",
              "15.0        35\n",
              "16.0        23\n",
              "17.0        14\n",
              "18.0         6\n",
              "19.0         3\n",
              "24.0         1\n",
              "27.0         1\n",
              "22.0         1\n",
              "23.0         1\n",
              "Name: AMT_REQ_CREDIT_BUREAU_MON, dtype: int64"
            ]
          },
          "metadata": {
            "tags": []
          },
          "execution_count": 92
        }
      ]
    },
    {
      "cell_type": "code",
      "metadata": {
        "id": "15pYkHTMMpCY",
        "colab_type": "code",
        "outputId": "21d43e0f-ea14-44f3-964c-46c3c3b9d81c",
        "colab": {
          "base_uri": "https://localhost:8080/",
          "height": 184
        }
      },
      "source": [
        "train.AMT_REQ_CREDIT_BUREAU_WEEK.value_counts()"
      ],
      "execution_count": 0,
      "outputs": [
        {
          "output_type": "execute_result",
          "data": {
            "text/plain": [
              "0.0    257456\n",
              "1.0      8208\n",
              "2.0       199\n",
              "3.0        58\n",
              "4.0        34\n",
              "6.0        20\n",
              "5.0        10\n",
              "8.0         5\n",
              "7.0         2\n",
              "Name: AMT_REQ_CREDIT_BUREAU_WEEK, dtype: int64"
            ]
          },
          "metadata": {
            "tags": []
          },
          "execution_count": 93
        }
      ]
    },
    {
      "cell_type": "code",
      "metadata": {
        "id": "sY1pwE3mMnnY",
        "colab_type": "code",
        "outputId": "889ce0dc-26b6-4d92-ff56-455a5034bff1",
        "colab": {
          "base_uri": "https://localhost:8080/",
          "height": 218
        }
      },
      "source": [
        "train.AMT_REQ_CREDIT_BUREAU_QRT.value_counts()"
      ],
      "execution_count": 0,
      "outputs": [
        {
          "output_type": "execute_result",
          "data": {
            "text/plain": [
              "0.0      215417\n",
              "1.0       33862\n",
              "2.0       14412\n",
              "3.0        1717\n",
              "4.0         476\n",
              "5.0          64\n",
              "6.0          28\n",
              "7.0           7\n",
              "8.0           7\n",
              "19.0          1\n",
              "261.0         1\n",
              "Name: AMT_REQ_CREDIT_BUREAU_QRT, dtype: int64"
            ]
          },
          "metadata": {
            "tags": []
          },
          "execution_count": 94
        }
      ]
    },
    {
      "cell_type": "code",
      "metadata": {
        "id": "SdTr-cxkMoU4",
        "colab_type": "code",
        "outputId": "ef4d121e-8dd1-41f5-9920-02e9c38020e5",
        "colab": {
          "base_uri": "https://localhost:8080/",
          "height": 134
        }
      },
      "source": [
        "train.AMT_REQ_CREDIT_BUREAU_YEAR.value_counts()[:5]"
      ],
      "execution_count": 0,
      "outputs": [
        {
          "output_type": "execute_result",
          "data": {
            "text/plain": [
              "0.0    71801\n",
              "1.0    63405\n",
              "2.0    50192\n",
              "3.0    33628\n",
              "4.0    20714\n",
              "5.0    12052\n",
              "Name: AMT_REQ_CREDIT_BUREAU_YEAR, dtype: int64"
            ]
          },
          "metadata": {
            "tags": []
          },
          "execution_count": 95
        }
      ]
    },
    {
      "cell_type": "code",
      "metadata": {
        "id": "bKEGjnUWeG8c",
        "colab_type": "code",
        "colab": {}
      },
      "source": [
        "# Except the year, 0 looks the most common value in all other Credit Bureau enquiry fields\n",
        "train.AMT_REQ_CREDIT_BUREAU_HOUR.fillna(0, inplace=True)\n",
        "train.AMT_REQ_CREDIT_BUREAU_DAY.fillna(0, inplace=True)\n",
        "train.AMT_REQ_CREDIT_BUREAU_MON.fillna(0, inplace=True)\n",
        "train.AMT_REQ_CREDIT_BUREAU_WEEK.fillna(0, inplace=True)\n",
        "train.AMT_REQ_CREDIT_BUREAU_QRT.fillna(0, inplace=True)\n",
        "\n",
        "test.AMT_REQ_CREDIT_BUREAU_HOUR.fillna(0, inplace=True)\n",
        "test.AMT_REQ_CREDIT_BUREAU_DAY.fillna(0, inplace=True)\n",
        "test.AMT_REQ_CREDIT_BUREAU_MON.fillna(0, inplace=True)\n",
        "test.AMT_REQ_CREDIT_BUREAU_WEEK.fillna(0, inplace=True)\n",
        "test.AMT_REQ_CREDIT_BUREAU_QRT.fillna(0, inplace=True)"
      ],
      "execution_count": 0,
      "outputs": []
    },
    {
      "cell_type": "code",
      "metadata": {
        "id": "jFIECOMxlF2F",
        "colab_type": "code",
        "outputId": "53d6ca52-4d89-4e2f-a227-484f0e081dfc",
        "colab": {
          "base_uri": "https://localhost:8080/",
          "height": 285
        }
      },
      "source": [
        "# Let's explore EXT_SOURCE_3 \n",
        "train['EXT_SOURCE_3'].value_counts().head(15)"
      ],
      "execution_count": 0,
      "outputs": [
        {
          "output_type": "execute_result",
          "data": {
            "text/plain": [
              "0.746300    1460\n",
              "0.713631    1315\n",
              "0.694093    1276\n",
              "0.670652    1191\n",
              "0.652897    1154\n",
              "0.581484    1141\n",
              "0.689479    1138\n",
              "0.595456    1136\n",
              "0.554947    1132\n",
              "0.621226    1109\n",
              "0.657784    1092\n",
              "0.607557    1067\n",
              "0.643026    1066\n",
              "0.450747    1064\n",
              "0.626304    1054\n",
              "Name: EXT_SOURCE_3, dtype: int64"
            ]
          },
          "metadata": {
            "tags": []
          },
          "execution_count": 97
        }
      ]
    },
    {
      "cell_type": "code",
      "metadata": {
        "id": "7Cf509bZQSS2",
        "colab_type": "code",
        "outputId": "a0f21400-d625-433f-e634-1b101a4ec4a8",
        "colab": {
          "base_uri": "https://localhost:8080/",
          "height": 168
        }
      },
      "source": [
        "train['EXT_SOURCE_3'].describe()"
      ],
      "execution_count": 0,
      "outputs": [
        {
          "output_type": "execute_result",
          "data": {
            "text/plain": [
              "count    246546.000000\n",
              "mean          0.510853\n",
              "std           0.194844\n",
              "min           0.000527\n",
              "25%           0.370650\n",
              "50%           0.535276\n",
              "75%           0.669057\n",
              "max           0.896010\n",
              "Name: EXT_SOURCE_3, dtype: float64"
            ]
          },
          "metadata": {
            "tags": []
          },
          "execution_count": 98
        }
      ]
    },
    {
      "cell_type": "code",
      "metadata": {
        "id": "pmWDH3oHqsul",
        "colab_type": "code",
        "outputId": "9fe93a47-2319-4194-a42b-5c63dfe4410d",
        "colab": {
          "base_uri": "https://localhost:8080/",
          "height": 33
        }
      },
      "source": [
        "train.EXT_SOURCE_3.corr(train.EXT_SOURCE_2)"
      ],
      "execution_count": 0,
      "outputs": [
        {
          "output_type": "execute_result",
          "data": {
            "text/plain": [
              "0.10916729237112612"
            ]
          },
          "metadata": {
            "tags": []
          },
          "execution_count": 99
        }
      ]
    },
    {
      "cell_type": "code",
      "metadata": {
        "id": "yMSSw_VYw-sG",
        "colab_type": "code",
        "colab": {}
      },
      "source": [
        "# couldn't find any specific pattern, replacing with median\n",
        "test.EXT_SOURCE_3.fillna(train.EXT_SOURCE_3.median(),inplace = True)\n",
        "train.EXT_SOURCE_3.fillna(train.EXT_SOURCE_3.median(),inplace = True)"
      ],
      "execution_count": 0,
      "outputs": []
    },
    {
      "cell_type": "code",
      "metadata": {
        "id": "5FfyNzhwy0ax",
        "colab_type": "code",
        "outputId": "68acaa0d-8af2-4dd1-8de3-143834bb07c6",
        "colab": {
          "base_uri": "https://localhost:8080/",
          "height": 335
        }
      },
      "source": [
        "# Occupation Type\n",
        "train.OCCUPATION_TYPE.value_counts()"
      ],
      "execution_count": 0,
      "outputs": [
        {
          "output_type": "execute_result",
          "data": {
            "text/plain": [
              "Laborers                 55186\n",
              "Sales staff              32102\n",
              "Core staff               27570\n",
              "Managers                 21371\n",
              "Drivers                  18603\n",
              "High skill tech staff    11380\n",
              "Accountants               9813\n",
              "Medicine staff            8537\n",
              "Security staff            6721\n",
              "Cooking staff             5946\n",
              "Cleaning staff            4653\n",
              "Private service staff     2652\n",
              "Low-skill Laborers        2093\n",
              "Waiters/barmen staff      1348\n",
              "Secretaries               1305\n",
              "Realty agents              751\n",
              "HR staff                   563\n",
              "IT staff                   526\n",
              "Name: OCCUPATION_TYPE, dtype: int64"
            ]
          },
          "metadata": {
            "tags": []
          },
          "execution_count": 101
        }
      ]
    },
    {
      "cell_type": "code",
      "metadata": {
        "id": "u-zNTv2Nii5y",
        "colab_type": "code",
        "outputId": "52952cc8-6688-4edb-f119-0dae129c00f3",
        "colab": {
          "base_uri": "https://localhost:8080/",
          "height": 627
        }
      },
      "source": [
        "# checking if salary is related with OCCUPATION_TYPE - all the salaries are very close, can't get any inference out of it\n",
        "train.groupby(train.OCCUPATION_TYPE).describe()['AMT_INCOME_TOTAL']"
      ],
      "execution_count": 0,
      "outputs": [
        {
          "output_type": "execute_result",
          "data": {
            "text/html": [
              "<div>\n",
              "<style scoped>\n",
              "    .dataframe tbody tr th:only-of-type {\n",
              "        vertical-align: middle;\n",
              "    }\n",
              "\n",
              "    .dataframe tbody tr th {\n",
              "        vertical-align: top;\n",
              "    }\n",
              "\n",
              "    .dataframe thead th {\n",
              "        text-align: right;\n",
              "    }\n",
              "</style>\n",
              "<table border=\"1\" class=\"dataframe\">\n",
              "  <thead>\n",
              "    <tr style=\"text-align: right;\">\n",
              "      <th></th>\n",
              "      <th>count</th>\n",
              "      <th>mean</th>\n",
              "      <th>std</th>\n",
              "      <th>min</th>\n",
              "      <th>25%</th>\n",
              "      <th>50%</th>\n",
              "      <th>75%</th>\n",
              "      <th>max</th>\n",
              "    </tr>\n",
              "    <tr>\n",
              "      <th>OCCUPATION_TYPE</th>\n",
              "      <th></th>\n",
              "      <th></th>\n",
              "      <th></th>\n",
              "      <th></th>\n",
              "      <th></th>\n",
              "      <th></th>\n",
              "      <th></th>\n",
              "      <th></th>\n",
              "    </tr>\n",
              "  </thead>\n",
              "  <tbody>\n",
              "    <tr>\n",
              "      <th>Accountants</th>\n",
              "      <td>9813.0</td>\n",
              "      <td>194578.357842</td>\n",
              "      <td>108876.812807</td>\n",
              "      <td>27000.0</td>\n",
              "      <td>130500.0</td>\n",
              "      <td>178650.0</td>\n",
              "      <td>225000.0</td>\n",
              "      <td>2214117.0</td>\n",
              "    </tr>\n",
              "    <tr>\n",
              "      <th>Cleaning staff</th>\n",
              "      <td>4653.0</td>\n",
              "      <td>130790.895551</td>\n",
              "      <td>64075.793833</td>\n",
              "      <td>25650.0</td>\n",
              "      <td>90000.0</td>\n",
              "      <td>112500.0</td>\n",
              "      <td>157500.0</td>\n",
              "      <td>1080000.0</td>\n",
              "    </tr>\n",
              "    <tr>\n",
              "      <th>Cooking staff</th>\n",
              "      <td>5946.0</td>\n",
              "      <td>138396.508176</td>\n",
              "      <td>62742.083077</td>\n",
              "      <td>27000.0</td>\n",
              "      <td>90000.0</td>\n",
              "      <td>126000.0</td>\n",
              "      <td>171000.0</td>\n",
              "      <td>540000.0</td>\n",
              "    </tr>\n",
              "    <tr>\n",
              "      <th>Core staff</th>\n",
              "      <td>27570.0</td>\n",
              "      <td>172656.695254</td>\n",
              "      <td>98147.105697</td>\n",
              "      <td>27000.0</td>\n",
              "      <td>112500.0</td>\n",
              "      <td>157500.0</td>\n",
              "      <td>202500.0</td>\n",
              "      <td>3600000.0</td>\n",
              "    </tr>\n",
              "    <tr>\n",
              "      <th>Drivers</th>\n",
              "      <td>18603.0</td>\n",
              "      <td>187011.606413</td>\n",
              "      <td>82593.382899</td>\n",
              "      <td>27000.0</td>\n",
              "      <td>135000.0</td>\n",
              "      <td>180000.0</td>\n",
              "      <td>225000.0</td>\n",
              "      <td>2475000.0</td>\n",
              "    </tr>\n",
              "    <tr>\n",
              "      <th>HR staff</th>\n",
              "      <td>563.0</td>\n",
              "      <td>188916.282416</td>\n",
              "      <td>93155.321259</td>\n",
              "      <td>30600.0</td>\n",
              "      <td>135000.0</td>\n",
              "      <td>158400.0</td>\n",
              "      <td>225000.0</td>\n",
              "      <td>699750.0</td>\n",
              "    </tr>\n",
              "    <tr>\n",
              "      <th>High skill tech staff</th>\n",
              "      <td>11380.0</td>\n",
              "      <td>182842.045683</td>\n",
              "      <td>95711.001374</td>\n",
              "      <td>27000.0</td>\n",
              "      <td>112500.0</td>\n",
              "      <td>157500.0</td>\n",
              "      <td>225000.0</td>\n",
              "      <td>1890000.0</td>\n",
              "    </tr>\n",
              "    <tr>\n",
              "      <th>IT staff</th>\n",
              "      <td>526.0</td>\n",
              "      <td>213465.601711</td>\n",
              "      <td>142009.791936</td>\n",
              "      <td>45000.0</td>\n",
              "      <td>135000.0</td>\n",
              "      <td>180000.0</td>\n",
              "      <td>247500.0</td>\n",
              "      <td>2025000.0</td>\n",
              "    </tr>\n",
              "    <tr>\n",
              "      <th>Laborers</th>\n",
              "      <td>55186.0</td>\n",
              "      <td>166357.482525</td>\n",
              "      <td>504164.664318</td>\n",
              "      <td>27000.0</td>\n",
              "      <td>112500.0</td>\n",
              "      <td>157500.0</td>\n",
              "      <td>202500.0</td>\n",
              "      <td>117000000.0</td>\n",
              "    </tr>\n",
              "    <tr>\n",
              "      <th>Low-skill Laborers</th>\n",
              "      <td>2093.0</td>\n",
              "      <td>133228.001911</td>\n",
              "      <td>54003.583810</td>\n",
              "      <td>27000.0</td>\n",
              "      <td>90000.0</td>\n",
              "      <td>121500.0</td>\n",
              "      <td>157500.0</td>\n",
              "      <td>450000.0</td>\n",
              "    </tr>\n",
              "    <tr>\n",
              "      <th>Managers</th>\n",
              "      <td>21371.0</td>\n",
              "      <td>260336.681717</td>\n",
              "      <td>184940.984890</td>\n",
              "      <td>27000.0</td>\n",
              "      <td>157500.0</td>\n",
              "      <td>225000.0</td>\n",
              "      <td>315000.0</td>\n",
              "      <td>9000000.0</td>\n",
              "    </tr>\n",
              "    <tr>\n",
              "      <th>Medicine staff</th>\n",
              "      <td>8537.0</td>\n",
              "      <td>149709.643434</td>\n",
              "      <td>74078.798526</td>\n",
              "      <td>26550.0</td>\n",
              "      <td>99000.0</td>\n",
              "      <td>135000.0</td>\n",
              "      <td>180000.0</td>\n",
              "      <td>1350000.0</td>\n",
              "    </tr>\n",
              "    <tr>\n",
              "      <th>Private service staff</th>\n",
              "      <td>2652.0</td>\n",
              "      <td>182334.812783</td>\n",
              "      <td>104751.224342</td>\n",
              "      <td>36000.0</td>\n",
              "      <td>121500.0</td>\n",
              "      <td>157500.0</td>\n",
              "      <td>225000.0</td>\n",
              "      <td>3150000.0</td>\n",
              "    </tr>\n",
              "    <tr>\n",
              "      <th>Realty agents</th>\n",
              "      <td>751.0</td>\n",
              "      <td>195003.994674</td>\n",
              "      <td>82992.755612</td>\n",
              "      <td>67500.0</td>\n",
              "      <td>135000.0</td>\n",
              "      <td>180000.0</td>\n",
              "      <td>225000.0</td>\n",
              "      <td>675000.0</td>\n",
              "    </tr>\n",
              "    <tr>\n",
              "      <th>Sales staff</th>\n",
              "      <td>32102.0</td>\n",
              "      <td>152302.874710</td>\n",
              "      <td>77616.226957</td>\n",
              "      <td>27000.0</td>\n",
              "      <td>103500.0</td>\n",
              "      <td>135000.0</td>\n",
              "      <td>180000.0</td>\n",
              "      <td>2025000.0</td>\n",
              "    </tr>\n",
              "    <tr>\n",
              "      <th>Secretaries</th>\n",
              "      <td>1305.0</td>\n",
              "      <td>160541.662069</td>\n",
              "      <td>115258.230585</td>\n",
              "      <td>45000.0</td>\n",
              "      <td>107284.5</td>\n",
              "      <td>135000.0</td>\n",
              "      <td>180000.0</td>\n",
              "      <td>2025000.0</td>\n",
              "    </tr>\n",
              "    <tr>\n",
              "      <th>Security staff</th>\n",
              "      <td>6721.0</td>\n",
              "      <td>149662.695953</td>\n",
              "      <td>69621.523467</td>\n",
              "      <td>27000.0</td>\n",
              "      <td>103500.0</td>\n",
              "      <td>135000.0</td>\n",
              "      <td>180000.0</td>\n",
              "      <td>832500.0</td>\n",
              "    </tr>\n",
              "    <tr>\n",
              "      <th>Waiters/barmen staff</th>\n",
              "      <td>1348.0</td>\n",
              "      <td>144272.583828</td>\n",
              "      <td>67068.772193</td>\n",
              "      <td>29250.0</td>\n",
              "      <td>90000.0</td>\n",
              "      <td>135000.0</td>\n",
              "      <td>180000.0</td>\n",
              "      <td>585000.0</td>\n",
              "    </tr>\n",
              "  </tbody>\n",
              "</table>\n",
              "</div>"
            ],
            "text/plain": [
              "                         count           mean  ...       75%          max\n",
              "OCCUPATION_TYPE                                ...                       \n",
              "Accountants             9813.0  194578.357842  ...  225000.0    2214117.0\n",
              "Cleaning staff          4653.0  130790.895551  ...  157500.0    1080000.0\n",
              "Cooking staff           5946.0  138396.508176  ...  171000.0     540000.0\n",
              "Core staff             27570.0  172656.695254  ...  202500.0    3600000.0\n",
              "Drivers                18603.0  187011.606413  ...  225000.0    2475000.0\n",
              "HR staff                 563.0  188916.282416  ...  225000.0     699750.0\n",
              "High skill tech staff  11380.0  182842.045683  ...  225000.0    1890000.0\n",
              "IT staff                 526.0  213465.601711  ...  247500.0    2025000.0\n",
              "Laborers               55186.0  166357.482525  ...  202500.0  117000000.0\n",
              "Low-skill Laborers      2093.0  133228.001911  ...  157500.0     450000.0\n",
              "Managers               21371.0  260336.681717  ...  315000.0    9000000.0\n",
              "Medicine staff          8537.0  149709.643434  ...  180000.0    1350000.0\n",
              "Private service staff   2652.0  182334.812783  ...  225000.0    3150000.0\n",
              "Realty agents            751.0  195003.994674  ...  225000.0     675000.0\n",
              "Sales staff            32102.0  152302.874710  ...  180000.0    2025000.0\n",
              "Secretaries             1305.0  160541.662069  ...  180000.0    2025000.0\n",
              "Security staff          6721.0  149662.695953  ...  180000.0     832500.0\n",
              "Waiters/barmen staff    1348.0  144272.583828  ...  180000.0     585000.0\n",
              "\n",
              "[18 rows x 8 columns]"
            ]
          },
          "metadata": {
            "tags": []
          },
          "execution_count": 102
        }
      ]
    },
    {
      "cell_type": "code",
      "metadata": {
        "id": "zUW7JLGCYxbU",
        "colab_type": "code",
        "outputId": "50ad9d9f-c4f6-4453-cd4c-5cb83f69a9dd",
        "colab": {
          "base_uri": "https://localhost:8080/",
          "height": 151
        }
      },
      "source": [
        "train['NAME_TYPE_SUITE'].value_counts()"
      ],
      "execution_count": 0,
      "outputs": [
        {
          "output_type": "execute_result",
          "data": {
            "text/plain": [
              "Unaccompanied      248526\n",
              "Family              40149\n",
              "Spouse, partner     11370\n",
              "Children             3267\n",
              "Other_B              1770\n",
              "Other_A               866\n",
              "Group of people       271\n",
              "Name: NAME_TYPE_SUITE, dtype: int64"
            ]
          },
          "metadata": {
            "tags": []
          },
          "execution_count": 103
        }
      ]
    },
    {
      "cell_type": "code",
      "metadata": {
        "id": "rjeNZyQMBgVl",
        "colab_type": "code",
        "colab": {}
      },
      "source": [
        "train.NAME_TYPE_SUITE.fillna('Unaccompanied', inplace=True)\n",
        "test.NAME_TYPE_SUITE.fillna('Unaccompanied', inplace=True)"
      ],
      "execution_count": 0,
      "outputs": []
    },
    {
      "cell_type": "code",
      "metadata": {
        "id": "FoWUpkVmY9mM",
        "colab_type": "code",
        "outputId": "0e352f12-58fe-4b16-b855-0a80abc097c3",
        "colab": {
          "base_uri": "https://localhost:8080/",
          "height": 67
        }
      },
      "source": [
        "train['EMERGENCYSTATE_MODE'].value_counts()"
      ],
      "execution_count": 0,
      "outputs": [
        {
          "output_type": "execute_result",
          "data": {
            "text/plain": [
              "No     159428\n",
              "Yes      2328\n",
              "Name: EMERGENCYSTATE_MODE, dtype: int64"
            ]
          },
          "metadata": {
            "tags": []
          },
          "execution_count": 105
        }
      ]
    },
    {
      "cell_type": "code",
      "metadata": {
        "id": "YWyLcIeZZksP",
        "colab_type": "code",
        "colab": {}
      },
      "source": [
        "train.EMERGENCYSTATE_MODE.fillna('EMERGENCYSTATE_MODE', inplace=True)\n",
        "test.EMERGENCYSTATE_MODE.fillna('EMERGENCYSTATE_MODE', inplace=True)"
      ],
      "execution_count": 0,
      "outputs": []
    },
    {
      "cell_type": "code",
      "metadata": {
        "id": "dc98FxIqY9Ng",
        "colab_type": "code",
        "outputId": "c20ed406-28ff-4aff-9f97-365dd9a78ace",
        "colab": {
          "base_uri": "https://localhost:8080/",
          "height": 335
        }
      },
      "source": [
        "train['OCCUPATION_TYPE'].value_counts()"
      ],
      "execution_count": 0,
      "outputs": [
        {
          "output_type": "execute_result",
          "data": {
            "text/plain": [
              "Laborers                 55186\n",
              "Sales staff              32102\n",
              "Core staff               27570\n",
              "Managers                 21371\n",
              "Drivers                  18603\n",
              "High skill tech staff    11380\n",
              "Accountants               9813\n",
              "Medicine staff            8537\n",
              "Security staff            6721\n",
              "Cooking staff             5946\n",
              "Cleaning staff            4653\n",
              "Private service staff     2652\n",
              "Low-skill Laborers        2093\n",
              "Waiters/barmen staff      1348\n",
              "Secretaries               1305\n",
              "Realty agents              751\n",
              "HR staff                   563\n",
              "IT staff                   526\n",
              "Name: OCCUPATION_TYPE, dtype: int64"
            ]
          },
          "metadata": {
            "tags": []
          },
          "execution_count": 107
        }
      ]
    },
    {
      "cell_type": "code",
      "metadata": {
        "id": "NRT4GcQNZ4tl",
        "colab_type": "code",
        "colab": {}
      },
      "source": [
        "train.OCCUPATION_TYPE.fillna('Laborers', inplace=True)\n",
        "test.OCCUPATION_TYPE.fillna('Laborers', inplace=True)"
      ],
      "execution_count": 0,
      "outputs": []
    },
    {
      "cell_type": "code",
      "metadata": {
        "id": "5hey2JGPhs_p",
        "colab_type": "code",
        "outputId": "f6a4bbc4-5da6-4d78-dc84-c59543f357dc",
        "colab": {
          "base_uri": "https://localhost:8080/",
          "height": 235
        }
      },
      "source": [
        "train.isnull().sum().sort_values(ascending = False)[:12]"
      ],
      "execution_count": 0,
      "outputs": [
        {
          "output_type": "execute_result",
          "data": {
            "text/plain": [
              "TOTALAREA_MODE                148431\n",
              "AMT_REQ_CREDIT_BUREAU_YEAR     41519\n",
              "DEF_60_CNT_SOCIAL_CIRCLE        1021\n",
              "OBS_60_CNT_SOCIAL_CIRCLE        1021\n",
              "DEF_30_CNT_SOCIAL_CIRCLE        1021\n",
              "OBS_30_CNT_SOCIAL_CIRCLE        1021\n",
              "EXT_SOURCE_2                     660\n",
              "AMT_GOODS_PRICE                  278\n",
              "AMT_ANNUITY                       12\n",
              "CNT_FAM_MEMBERS                    2\n",
              "DAYS_LAST_PHONE_CHANGE             1\n",
              "FLAG_EMAIL                         0\n",
              "dtype: int64"
            ]
          },
          "metadata": {
            "tags": []
          },
          "execution_count": 109
        }
      ]
    },
    {
      "cell_type": "code",
      "metadata": {
        "id": "Q5VpHPQdqbOW",
        "colab_type": "code",
        "colab": {}
      },
      "source": [
        "train.drop(columns = 'SK_ID_CURR', inplace = True)\n",
        "test.drop(columns = 'SK_ID_CURR', inplace = True)"
      ],
      "execution_count": 0,
      "outputs": []
    },
    {
      "cell_type": "markdown",
      "metadata": {
        "id": "A6FoH3TER6LJ",
        "colab_type": "text"
      },
      "source": [
        "Imputing the numeric missing values using IterativeImputer\n"
      ]
    },
    {
      "cell_type": "code",
      "metadata": {
        "id": "5A28Dx8fSEf5",
        "colab_type": "code",
        "outputId": "8660e6c9-ce25-4482-ae34-472d65c3a74f",
        "colab": {
          "base_uri": "https://localhost:8080/",
          "height": 117
        }
      },
      "source": [
        "# categorical columns\n",
        "train.columns[train.dtypes.values == 'O']"
      ],
      "execution_count": 0,
      "outputs": [
        {
          "output_type": "execute_result",
          "data": {
            "text/plain": [
              "Index(['NAME_CONTRACT_TYPE', 'CODE_GENDER', 'FLAG_OWN_CAR', 'FLAG_OWN_REALTY',\n",
              "       'NAME_TYPE_SUITE', 'NAME_INCOME_TYPE', 'NAME_EDUCATION_TYPE',\n",
              "       'NAME_FAMILY_STATUS', 'NAME_HOUSING_TYPE', 'OCCUPATION_TYPE',\n",
              "       'WEEKDAY_APPR_PROCESS_START', 'ORGANIZATION_TYPE',\n",
              "       'EMERGENCYSTATE_MODE'],\n",
              "      dtype='object')"
            ]
          },
          "metadata": {
            "tags": []
          },
          "execution_count": 111
        }
      ]
    },
    {
      "cell_type": "code",
      "metadata": {
        "id": "qFv6uBv6foMP",
        "colab_type": "code",
        "colab": {}
      },
      "source": [
        "# setting up instance\n",
        "from sklearn.experimental import enable_iterative_imputer\n",
        "from sklearn.impute import IterativeImputer\n",
        "\n",
        "imputer = IterativeImputer(max_iter = 10, random_state = 0)"
      ],
      "execution_count": 0,
      "outputs": []
    },
    {
      "cell_type": "code",
      "metadata": {
        "id": "d_Js1ufyDafs",
        "colab_type": "code",
        "outputId": "448b8639-4350-4f06-ca2b-2defe847cd7e",
        "colab": {
          "base_uri": "https://localhost:8080/",
          "height": 117
        }
      },
      "source": [
        "imputer.fit(train.loc[:, ~train.columns.isin(['NAME_CONTRACT_TYPE', 'CODE_GENDER', 'FLAG_OWN_CAR', 'FLAG_OWN_REALTY',\n",
        "       'NAME_TYPE_SUITE', 'NAME_INCOME_TYPE', 'NAME_EDUCATION_TYPE', 'NAME_FAMILY_STATUS', 'NAME_HOUSING_TYPE', 'OCCUPATION_TYPE',\n",
        "       'WEEKDAY_APPR_PROCESS_START', 'ORGANIZATION_TYPE','EMERGENCYSTATE_MODE','TARGET'])])"
      ],
      "execution_count": 0,
      "outputs": [
        {
          "output_type": "execute_result",
          "data": {
            "text/plain": [
              "IterativeImputer(add_indicator=False, estimator=None,\n",
              "                 imputation_order='ascending', initial_strategy='mean',\n",
              "                 max_iter=10, max_value=None, min_value=None,\n",
              "                 missing_values=nan, n_nearest_features=None, random_state=0,\n",
              "                 sample_posterior=False, skip_complete=False, tol=0.001,\n",
              "                 verbose=0)"
            ]
          },
          "metadata": {
            "tags": []
          },
          "execution_count": 119
        }
      ]
    },
    {
      "cell_type": "code",
      "metadata": {
        "id": "yGb5zUWn7yMd",
        "colab_type": "code",
        "colab": {}
      },
      "source": [
        "imputation_train = pd.DataFrame(imputer.transform(train.loc[:, ~train.columns.isin(['NAME_CONTRACT_TYPE', 'CODE_GENDER', 'FLAG_OWN_CAR', 'FLAG_OWN_REALTY',\n",
        "       'NAME_TYPE_SUITE', 'NAME_INCOME_TYPE', 'NAME_EDUCATION_TYPE', 'NAME_FAMILY_STATUS', 'NAME_HOUSING_TYPE', 'OCCUPATION_TYPE',\n",
        "       'WEEKDAY_APPR_PROCESS_START', 'ORGANIZATION_TYPE','EMERGENCYSTATE_MODE','TARGET'])]))"
      ],
      "execution_count": 0,
      "outputs": []
    },
    {
      "cell_type": "code",
      "metadata": {
        "id": "VFmSwc1dn5Lb",
        "colab_type": "code",
        "colab": {}
      },
      "source": [
        "imputation_train.columns = train.loc[:, ~train.columns.isin(['NAME_CONTRACT_TYPE', 'CODE_GENDER', 'FLAG_OWN_CAR', 'FLAG_OWN_REALTY',\n",
        "       'NAME_TYPE_SUITE', 'NAME_INCOME_TYPE', 'NAME_EDUCATION_TYPE', 'NAME_FAMILY_STATUS', 'NAME_HOUSING_TYPE', 'OCCUPATION_TYPE',\n",
        "       'WEEKDAY_APPR_PROCESS_START', 'ORGANIZATION_TYPE','EMERGENCYSTATE_MODE','TARGET'])].columns"
      ],
      "execution_count": 0,
      "outputs": []
    },
    {
      "cell_type": "code",
      "metadata": {
        "id": "2khAgH8bpALx",
        "colab_type": "code",
        "colab": {}
      },
      "source": [
        "train.loc[:, ~train.columns.isin(['NAME_CONTRACT_TYPE', 'CODE_GENDER', 'FLAG_OWN_CAR', 'FLAG_OWN_REALTY',\n",
        "       'NAME_TYPE_SUITE', 'NAME_INCOME_TYPE', 'NAME_EDUCATION_TYPE', 'NAME_FAMILY_STATUS', 'NAME_HOUSING_TYPE', 'OCCUPATION_TYPE',\n",
        "       'WEEKDAY_APPR_PROCESS_START', 'ORGANIZATION_TYPE','EMERGENCYSTATE_MODE','TARGET'])] = imputation_train.copy()"
      ],
      "execution_count": 0,
      "outputs": []
    },
    {
      "cell_type": "code",
      "metadata": {
        "id": "rtJi4wznqlRu",
        "colab_type": "code",
        "colab": {}
      },
      "source": [
        "imputation_test = pd.DataFrame(imputer.transform(test.loc[:, ~test.columns.isin(['NAME_CONTRACT_TYPE', 'CODE_GENDER', 'FLAG_OWN_CAR', 'FLAG_OWN_REALTY',\n",
        "       'NAME_TYPE_SUITE', 'NAME_INCOME_TYPE', 'NAME_EDUCATION_TYPE', 'NAME_FAMILY_STATUS', 'NAME_HOUSING_TYPE', 'OCCUPATION_TYPE',\n",
        "       'WEEKDAY_APPR_PROCESS_START', 'ORGANIZATION_TYPE','EMERGENCYSTATE_MODE','TARGET'])]))"
      ],
      "execution_count": 0,
      "outputs": []
    },
    {
      "cell_type": "code",
      "metadata": {
        "id": "V6TKQm9yq5gk",
        "colab_type": "code",
        "colab": {}
      },
      "source": [
        "imputation_test.columns = imputation_train.columns"
      ],
      "execution_count": 0,
      "outputs": []
    },
    {
      "cell_type": "code",
      "metadata": {
        "id": "ZCtSIV5Mq-vF",
        "colab_type": "code",
        "colab": {}
      },
      "source": [
        "test.loc[:, ~test.columns.isin(['NAME_CONTRACT_TYPE', 'CODE_GENDER', 'FLAG_OWN_CAR', 'FLAG_OWN_REALTY',\n",
        "       'NAME_TYPE_SUITE', 'NAME_INCOME_TYPE', 'NAME_EDUCATION_TYPE', 'NAME_FAMILY_STATUS', 'NAME_HOUSING_TYPE', 'OCCUPATION_TYPE',\n",
        "       'WEEKDAY_APPR_PROCESS_START', 'ORGANIZATION_TYPE','EMERGENCYSTATE_MODE'])] = imputation_test.copy()"
      ],
      "execution_count": 0,
      "outputs": []
    },
    {
      "cell_type": "code",
      "metadata": {
        "id": "UZf1KsyVnPuv",
        "colab_type": "code",
        "outputId": "3e440f70-bf15-4aa2-ad68-625be39e82fe",
        "colab": {
          "base_uri": "https://localhost:8080/",
          "height": 33
        }
      },
      "source": [
        "train.isnull().any().sum(), test.isnull().any().sum()"
      ],
      "execution_count": 0,
      "outputs": [
        {
          "output_type": "execute_result",
          "data": {
            "text/plain": [
              "(0, 0)"
            ]
          },
          "metadata": {
            "tags": []
          },
          "execution_count": 129
        }
      ]
    },
    {
      "cell_type": "markdown",
      "metadata": {
        "id": "gsVekx1lbNmc",
        "colab_type": "text"
      },
      "source": [
        "## Feature Engineering"
      ]
    },
    {
      "cell_type": "code",
      "metadata": {
        "id": "4CKVmLdFW0fg",
        "colab_type": "code",
        "colab": {}
      },
      "source": [
        "#Changing the days value to positive\n",
        "train['DAYS_EMPLOYED']=abs(train['DAYS_EMPLOYED'])\n",
        "train['DAYS_BIRTH']=abs(train['DAYS_BIRTH'])\n",
        "test['DAYS_EMPLOYED']=abs(test['DAYS_EMPLOYED'])\n",
        "test['DAYS_BIRTH']=abs(test['DAYS_BIRTH'])\n",
        "\n",
        "#Converting days to years\n",
        "train['YEARS_EMPLOYED']=train['DAYS_EMPLOYED']*1.0/365\n",
        "train['YEARS_BIRTH']=train['DAYS_BIRTH']*1.0/365\n",
        "test['YEARS_EMPLOYED']=test['DAYS_EMPLOYED']*1.0/365\n",
        "test['YEARS_BIRTH']=test['DAYS_BIRTH']*1.0/365"
      ],
      "execution_count": 0,
      "outputs": []
    },
    {
      "cell_type": "code",
      "metadata": {
        "id": "HeJ7Nb5lZi6L",
        "colab_type": "code",
        "outputId": "eb87262a-733a-43b0-e380-11255ad08d57",
        "colab": {
          "base_uri": "https://localhost:8080/",
          "height": 352
        }
      },
      "source": [
        "# Bucketing Family size\n",
        "train['CNT_FAM_MEMBERS'].value_counts()"
      ],
      "execution_count": 0,
      "outputs": [
        {
          "output_type": "execute_result",
          "data": {
            "text/plain": [
              "2.000000     158357\n",
              "1.000000      67847\n",
              "3.000000      52601\n",
              "4.000000      24697\n",
              "5.000000       3478\n",
              "6.000000        408\n",
              "7.000000         81\n",
              "8.000000         20\n",
              "9.000000          6\n",
              "10.000000         3\n",
              "20.000000         2\n",
              "14.000000         2\n",
              "12.000000         2\n",
              "16.000000         2\n",
              "15.000000         1\n",
              "11.000000         1\n",
              "1.606792          1\n",
              "13.000000         1\n",
              "1.719552          1\n",
              "Name: CNT_FAM_MEMBERS, dtype: int64"
            ]
          },
          "metadata": {
            "tags": []
          },
          "execution_count": 51
        }
      ]
    },
    {
      "cell_type": "code",
      "metadata": {
        "id": "1jpyfaTYZkr3",
        "colab_type": "code",
        "colab": {}
      },
      "source": [
        "bins = pd.IntervalIndex.from_tuples([(0,1), (1,2), (2,4), (4,22)])\n",
        "train['FAMILY SIZE'] = pd.cut(train['CNT_FAM_MEMBERS'],bins)\n",
        "train['FAMILY SIZE']=train['FAMILY SIZE'].astype('str')\n",
        "\n",
        "test['FAMILY SIZE'] = pd.cut(test['CNT_FAM_MEMBERS'],bins)\n",
        "test['FAMILY SIZE']=test['FAMILY SIZE'].astype('str')"
      ],
      "execution_count": 0,
      "outputs": []
    },
    {
      "cell_type": "code",
      "metadata": {
        "id": "J-HfkaDxZsGb",
        "colab_type": "code",
        "colab": {}
      },
      "source": [
        "train['FAMILY SIZE']=train['FAMILY SIZE'].replace('(1, 2]','Small')\n",
        "train['FAMILY SIZE']=train['FAMILY SIZE'].replace('(0, 1]','Single')\n",
        "train['FAMILY SIZE']=train['FAMILY SIZE'].replace('(2, 4]','Normal')\n",
        "train['FAMILY SIZE']=train['FAMILY SIZE'].replace('(4, 22]','Big')\n",
        "\n",
        "test['FAMILY SIZE']=test['FAMILY SIZE'].replace('(1, 2]','Small')\n",
        "test['FAMILY SIZE']=test['FAMILY SIZE'].replace('(0, 1]','Single')\n",
        "test['FAMILY SIZE']=test['FAMILY SIZE'].replace('(2, 4]','Normal')\n",
        "test['FAMILY SIZE']=test['FAMILY SIZE'].replace('(4, 22]','Big')"
      ],
      "execution_count": 0,
      "outputs": []
    },
    {
      "cell_type": "code",
      "metadata": {
        "id": "A6dmbPruZuUS",
        "colab_type": "code",
        "outputId": "e531a65b-1d73-478b-a1d7-ed981a8be686",
        "colab": {
          "base_uri": "https://localhost:8080/",
          "height": 308
        }
      },
      "source": [
        "train['FAMILY SIZE'].value_counts().plot(kind='bar')"
      ],
      "execution_count": 0,
      "outputs": [
        {
          "output_type": "execute_result",
          "data": {
            "text/plain": [
              "<matplotlib.axes._subplots.AxesSubplot at 0x7f73586eda58>"
            ]
          },
          "metadata": {
            "tags": []
          },
          "execution_count": 135
        },
        {
          "output_type": "display_data",
          "data": {
            "image/png": "[encoded data removed]",
            "text/plain": [
              "<Figure size 432x288 with 1 Axes>"
            ]
          },
          "metadata": {
            "tags": []
          }
        }
      ]
    },
    {
      "cell_type": "code",
      "metadata": {
        "id": "OekCOFILZxhR",
        "colab_type": "code",
        "outputId": "9d0cc7ba-67e9-4085-e316-2311658a09b2",
        "colab": {
          "base_uri": "https://localhost:8080/",
          "height": 285
        }
      },
      "source": [
        "# bucketing children count\n",
        "train['CNT_CHILDREN'].value_counts()"
      ],
      "execution_count": 0,
      "outputs": [
        {
          "output_type": "execute_result",
          "data": {
            "text/plain": [
              "0.0     215371\n",
              "1.0      61119\n",
              "2.0      26749\n",
              "3.0       3717\n",
              "4.0        429\n",
              "5.0         84\n",
              "6.0         21\n",
              "7.0          7\n",
              "14.0         3\n",
              "12.0         2\n",
              "10.0         2\n",
              "8.0          2\n",
              "19.0         2\n",
              "9.0          2\n",
              "11.0         1\n",
              "Name: CNT_CHILDREN, dtype: int64"
            ]
          },
          "metadata": {
            "tags": []
          },
          "execution_count": 136
        }
      ]
    },
    {
      "cell_type": "code",
      "metadata": {
        "id": "p9BnatXNZ484",
        "colab_type": "code",
        "colab": {}
      },
      "source": [
        "bins = pd.IntervalIndex.from_tuples([(-1,0), (0,20)])\n",
        "train['IS_CHILDREN'] = pd.cut(train['CNT_CHILDREN'],bins)\n",
        "train['IS_CHILDREN']=train['IS_CHILDREN'].astype('str')\n",
        "\n",
        "test['IS_CHILDREN'] = pd.cut(test['CNT_CHILDREN'],bins)\n",
        "test['IS_CHILDREN']=test['IS_CHILDREN'].astype('str')"
      ],
      "execution_count": 0,
      "outputs": []
    },
    {
      "cell_type": "code",
      "metadata": {
        "id": "KtlwY1LwZ7qA",
        "colab_type": "code",
        "colab": {}
      },
      "source": [
        "train['IS_CHILDREN']=train['IS_CHILDREN'].replace('(-1, 0]','0')\n",
        "train['IS_CHILDREN']=train['IS_CHILDREN'].replace('(0, 20]','1')\n",
        "\n",
        "test['IS_CHILDREN']=test['IS_CHILDREN'].replace('(-1, 0]','0')\n",
        "test['IS_CHILDREN']=test['IS_CHILDREN'].replace('(0, 20]','1')"
      ],
      "execution_count": 0,
      "outputs": []
    },
    {
      "cell_type": "code",
      "metadata": {
        "id": "iFg4kv-WZ98h",
        "colab_type": "code",
        "outputId": "77d8581a-5f63-4ac6-d46e-971ecb2ced1a",
        "colab": {
          "base_uri": "https://localhost:8080/",
          "height": 279
        }
      },
      "source": [
        "train['IS_CHILDREN'].value_counts().plot(kind='bar')"
      ],
      "execution_count": 0,
      "outputs": [
        {
          "output_type": "execute_result",
          "data": {
            "text/plain": [
              "<matplotlib.axes._subplots.AxesSubplot at 0x7f7359388ac8>"
            ]
          },
          "metadata": {
            "tags": []
          },
          "execution_count": 140
        },
        {
          "output_type": "display_data",
          "data": {
            "image/png": "[encoded data removed]",
            "text/plain": [
              "<Figure size 432x288 with 1 Axes>"
            ]
          },
          "metadata": {
            "tags": []
          }
        }
      ]
    },
    {
      "cell_type": "code",
      "metadata": {
        "id": "pc_dM0rqiVpv",
        "colab_type": "code",
        "colab": {}
      },
      "source": [
        "# credit income ratio\n",
        "train['credit_income_ratio'] = train['AMT_CREDIT'] / train['AMT_INCOME_TOTAL']\n",
        "test['credit_income_ratio'] = test['AMT_CREDIT'] / test['AMT_INCOME_TOTAL']"
      ],
      "execution_count": 0,
      "outputs": []
    },
    {
      "cell_type": "code",
      "metadata": {
        "id": "y1YEPjebiWFT",
        "colab_type": "code",
        "colab": {}
      },
      "source": [
        "# annuity income ratio\n",
        "train['annuity_income_ratio'] = train['AMT_ANNUITY'] / train['AMT_INCOME_TOTAL']\n",
        "test['annuity_income_ratio'] = test['AMT_ANNUITY'] / test['AMT_INCOME_TOTAL']"
      ],
      "execution_count": 0,
      "outputs": []
    },
    {
      "cell_type": "code",
      "metadata": {
        "id": "ZecuXagIXNZ1",
        "colab_type": "code",
        "colab": {}
      },
      "source": [
        "train['FLAG_OWN_CAR']=train['FLAG_OWN_CAR'].replace('N',0)\n",
        "train['FLAG_OWN_CAR']=train['FLAG_OWN_CAR'].replace('Y',1)\n",
        "\n",
        "train['CODE_GENDER']=train['CODE_GENDER'].replace('F',0)\n",
        "train['CODE_GENDER']=train['CODE_GENDER'].replace('M',1)\n",
        "\n",
        "test['FLAG_OWN_CAR']=test['FLAG_OWN_CAR'].replace('N',0)\n",
        "test['FLAG_OWN_CAR']=test['FLAG_OWN_CAR'].replace('Y',1)\n",
        "\n",
        "test['CODE_GENDER']=test['CODE_GENDER'].replace('F',0)\n",
        "test['CODE_GENDER']=test['CODE_GENDER'].replace('M',1)"
      ],
      "execution_count": 0,
      "outputs": []
    },
    {
      "cell_type": "code",
      "metadata": {
        "id": "tem_tZaZvOyr",
        "colab_type": "code",
        "colab": {}
      },
      "source": [
        "train = train.loc[~(train['CODE_GENDER'] == 'XNA'), :]"
      ],
      "execution_count": 0,
      "outputs": []
    },
    {
      "cell_type": "code",
      "metadata": {
        "id": "6AoUgG5oi9k0",
        "colab_type": "code",
        "colab": {}
      },
      "source": [
        "train.drop(columns = ['DAYS_BIRTH','DAYS_EMPLOYED'], inplace = True)\n",
        "test.drop(columns = ['DAYS_BIRTH','DAYS_EMPLOYED'], inplace = True)"
      ],
      "execution_count": 0,
      "outputs": []
    },
    {
      "cell_type": "code",
      "metadata": {
        "id": "Hf28kc9Zbxnr",
        "colab_type": "code",
        "outputId": "7400ee83-71a2-4b88-c02f-3a426be9b0b7",
        "colab": {
          "base_uri": "https://localhost:8080/",
          "height": 33
        }
      },
      "source": [
        "train.shape, test.shape"
      ],
      "execution_count": 0,
      "outputs": [
        {
          "output_type": "execute_result",
          "data": {
            "text/plain": [
              "((307507, 78), (48744, 77))"
            ]
          },
          "metadata": {
            "tags": []
          },
          "execution_count": 155
        }
      ]
    },
    {
      "cell_type": "markdown",
      "metadata": {
        "id": "rK9aURKQwD3M",
        "colab_type": "text"
      },
      "source": [
        "Save the processed files"
      ]
    },
    {
      "cell_type": "code",
      "metadata": {
        "id": "uSaTfSFTvqrV",
        "colab_type": "code",
        "outputId": "89d9cc2e-1ad3-44b8-9154-cdeba5655c26",
        "colab": {
          "base_uri": "https://localhost:8080/",
          "height": 120
        }
      },
      "source": [
        "from google.colab import drive\n",
        "drive.mount('/content/drive')"
      ],
      "execution_count": 0,
      "outputs": [
        {
          "output_type": "stream",
          "text": [
            "Go to this URL in a browser: https://accounts.google.com/o/oauth2/auth?client_id=947318989803-6bn6qk8qdgf4n4g3pfee6491hc0brc4i.apps.googleusercontent.com&redirect_uri=urn%3aietf%3awg%3aoauth%3a2.0%3aoob&response_type=code&scope=email%20https%3a%2f%2fwww.googleapis.com%2fauth%2fdocs.test%20https%3a%2f%2fwww.googleapis.com%2fauth%2fdrive%20https%3a%2f%2fwww.googleapis.com%2fauth%2fdrive.photos.readonly%20https%3a%2f%2fwww.googleapis.com%2fauth%2fpeopleapi.readonly\n",
            "\n",
            "Enter your authorization code:\n",
            "··········\n",
            "Mounted at /content/drive\n"
          ],
          "name": "stdout"
        }
      ]
    },
    {
      "cell_type": "code",
      "metadata": {
        "id": "XC3oFmJFv7O8",
        "colab_type": "code",
        "colab": {}
      },
      "source": [
        "train.to_csv(r'/content/drive/My Drive/Projects/Home Credit Default Risk/train.csv', index=False)\n",
        "test.to_csv(r'/content/drive/My Drive/Projects/Home Credit Default Risk/test.csv', index=False)"
      ],
      "execution_count": 0,
      "outputs": []
    }
  ]
}